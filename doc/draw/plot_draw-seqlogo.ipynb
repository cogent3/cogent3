{
  "cells": [
    {
      "cell_type": "code",
      "execution_count": null,
      "metadata": {
        "collapsed": false
      },
      "outputs": [],
      "source": [
        "%matplotlib inline"
      ]
    },
    {
      "cell_type": "markdown",
      "metadata": {},
      "source": [
        "\nDraw sequence logos\n===================\n\nSequence logo's display sequence information. They're extensively applied to transcription factor binding site (TFBS) display. They can also be applied to sequence alignments more generally.\n"
      ]
    },
    {
      "cell_type": "markdown",
      "metadata": {},
      "source": [
        "Drawing logo for a TFBS\n#######################\n\nWe use the TFBS for the TAT box binding protein.\n\n"
      ]
    },
    {
      "cell_type": "code",
      "execution_count": null,
      "metadata": {
        "collapsed": false
      },
      "outputs": [],
      "source": [
        "from cogent3.parse import jaspar\n\n_, pwm = jaspar.read(\"../data/tbp.jaspar\")\nfreqarr = pwm.to_freq_array()\nfreqarr[:5]  # illustrating the contents of the MotifFreqsArray"
      ]
    },
    {
      "cell_type": "code",
      "execution_count": null,
      "metadata": {
        "collapsed": false
      },
      "outputs": [],
      "source": [
        "logo = freqarr.logo()\nlogo.show(renderer=\"sphinx_gallery\", height=250, width=500)"
      ]
    },
    {
      "cell_type": "markdown",
      "metadata": {},
      "source": [
        "Drawing a sequence logo from a multiple sequence alignment\n##########################################################\n\nThis can be done for an entire alignment, but bear in mind it can take some time to render. Note that we include gap characters in the display.\n\n"
      ]
    },
    {
      "cell_type": "code",
      "execution_count": null,
      "metadata": {
        "collapsed": false
      },
      "outputs": [],
      "source": [
        "from cogent3 import load_aligned_seqs\n\naln = load_aligned_seqs(\"../data/brca1-bats.fasta\", moltype=\"dna\")\nl = aln[:311].seqlogo(height=300, width=500, wrap=60, vspace=0.05)\nl.show(renderer=\"sphinx_gallery\")"
      ]
    },
    {
      "cell_type": "markdown",
      "metadata": {},
      "source": [
        "Sequence logo of protein alignment\n##################################\n\nNo difference here except it uses the built-in colour scheme from the protein `MolType`.\n\n"
      ]
    },
    {
      "cell_type": "code",
      "execution_count": null,
      "metadata": {
        "collapsed": false
      },
      "outputs": [],
      "source": [
        "aa = aln.get_translation(incomplete_ok=True)[:120]\nlogo = aa.seqlogo(width=500, height=300, wrap=50, vspace=0.1)\nlogo.show(renderer=\"sphinx_gallery\")"
      ]
    }
  ],
  "metadata": {
    "kernelspec": {
      "display_name": "Python 3",
      "language": "python",
      "name": "python3"
    },
    "language_info": {
      "codemirror_mode": {
        "name": "ipython",
        "version": 3
      },
      "file_extension": ".py",
      "mimetype": "text/x-python",
      "name": "python",
      "nbconvert_exporter": "python",
      "pygments_lexer": "ipython3",
      "version": "3.8.0"
    }
  },
  "nbformat": 4,
  "nbformat_minor": 0
}