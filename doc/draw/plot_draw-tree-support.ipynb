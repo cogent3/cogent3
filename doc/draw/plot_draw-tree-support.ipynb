{
  "cells": [
    {
      "cell_type": "code",
      "execution_count": null,
      "metadata": {
        "collapsed": false
      },
      "outputs": [],
      "source": [
        "%matplotlib inline"
      ]
    },
    {
      "cell_type": "markdown",
      "metadata": {},
      "source": [
        "\nDisplay a Phylogenetic Tree Showing Bootstrap Support\n=====================================================\n\nWe use a tree saved in `json` format from a 100 replicate bootstrap resamplings. The `show_support=True` argument controls whether or not to display support. The `threshold=0.8` argument indicates only nodes with a support level \u22640.8 will have support text displayed.\n"
      ]
    },
    {
      "cell_type": "code",
      "execution_count": null,
      "metadata": {
        "collapsed": false
      },
      "outputs": [],
      "source": [
        "from cogent3.app import io\n\nreader = io.load_json()\n\ntree = reader(\"../data/tree-with-support.json\")\nfig = tree.get_figure(show_support=True, threshold=0.8)\nfig.scale_bar = None\nfig.show(renderer=\"sphinx_gallery\", width=500, height=400)"
      ]
    },
    {
      "cell_type": "markdown",
      "metadata": {},
      "source": [
        "Change the placement of support text\n####################################\n\nThe support text is positioned relative to the `x`, `y` coordinates of the tree node. Control over support text placement is achieved using the `support_xshift` and `support_yshift` attributes. These are expressed in terms of pixels.\n\nTo place the support text internal to the node, we set the yshift=0 (so at the same y-value of the node) and xshift it to the right using a positive integer.\n\n"
      ]
    },
    {
      "cell_type": "code",
      "execution_count": null,
      "metadata": {
        "collapsed": false
      },
      "outputs": [],
      "source": [
        "fig.support_xshift = 15\nfig.support_yshift = 0\nfig.show(renderer=\"sphinx_gallery\", width=500, height=400)"
      ]
    }
  ],
  "metadata": {
    "kernelspec": {
      "display_name": "Python 3",
      "language": "python",
      "name": "python3"
    },
    "language_info": {
      "codemirror_mode": {
        "name": "ipython",
        "version": 3
      },
      "file_extension": ".py",
      "mimetype": "text/x-python",
      "name": "python",
      "nbconvert_exporter": "python",
      "pygments_lexer": "ipython3",
      "version": "3.8.0"
    }
  },
  "nbformat": 4,
  "nbformat_minor": 0
}