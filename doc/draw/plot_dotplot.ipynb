{
  "cells": [
    {
      "cell_type": "code",
      "execution_count": null,
      "metadata": {
        "collapsed": false
      },
      "outputs": [],
      "source": [
        "%matplotlib inline"
      ]
    },
    {
      "cell_type": "markdown",
      "metadata": {},
      "source": [
        "\nDotplot\n=======\n\nThis is a useful technique ([Gibbs and McIntyre](https://www.ncbi.nlm.nih.gov/pubmed/5456129)) for comparing sequences. All `cogent3` sequence collections classes (`SequenceCollection`, `Alignment` and `ArrayAlignment`) have a dotplot method.\n\nThe method returns a drawable, as demonstrated below between unaligned sequences.\n"
      ]
    },
    {
      "cell_type": "code",
      "execution_count": null,
      "metadata": {
        "collapsed": false
      },
      "outputs": [],
      "source": [
        "from cogent3 import load_unaligned_seqs\n\nseqs = load_unaligned_seqs(\"../data/SCA1-cds.fasta\", moltype=\"dna\")\ndraw = seqs.dotplot()\ndraw.show(renderer=\"sphinx_gallery\")"
      ]
    },
    {
      "cell_type": "markdown",
      "metadata": {},
      "source": [
        "If sequence names are not provided, two randomly chosen sequences are selected (see below). The plot title reflects the parameter values for defining a match. `window` is the size of the sequence segments being compared. `threshold` is the number of exact matches within `window` required for the two sequence segments to be considered a match. `gap` is the size of a gap between adjacent matches before merging.\n%%\n Modifying the matching parameters\n #################################\n\n If we set window and threshold to be equal, this is equivalent to an exact match approach.\n\n"
      ]
    },
    {
      "cell_type": "code",
      "execution_count": null,
      "metadata": {
        "collapsed": false
      },
      "outputs": [],
      "source": [
        "draw = seqs.dotplot(name1=\"Human\", name2=\"Mouse\", window=8, threshold=8)\ndraw.show(renderer=\"sphinx_gallery\")"
      ]
    },
    {
      "cell_type": "markdown",
      "metadata": {},
      "source": [
        "Displaying dotplot for the reverse complement\n#############################################\n\n"
      ]
    },
    {
      "cell_type": "code",
      "execution_count": null,
      "metadata": {
        "collapsed": false
      },
      "outputs": [],
      "source": [
        "draw = seqs.dotplot(name1=\"Human\", name2=\"Mouse\", rc=True)\ndraw.show(renderer=\"sphinx_gallery\")"
      ]
    },
    {
      "cell_type": "markdown",
      "metadata": {},
      "source": [
        "**NOTE:** clicking on an entry in the legend turns it off\n%%\n Setting plot attributes\n #######################\n\n I'll modify the title and figure width. \n\n"
      ]
    },
    {
      "cell_type": "code",
      "execution_count": null,
      "metadata": {
        "collapsed": false
      },
      "outputs": [],
      "source": [
        "draw = seqs.dotplot(name1=\"Human\", name2=\"Mouse\", rc=True, title=\"SCA1\", width=400)\ndraw.show(renderer=\"sphinx_gallery\")"
      ]
    },
    {
      "cell_type": "markdown",
      "metadata": {},
      "source": [
        "All options\n###########\n\n"
      ]
    },
    {
      "cell_type": "code",
      "execution_count": null,
      "metadata": {
        "collapsed": false
      },
      "outputs": [],
      "source": [
        "help(seqs.dotplot)"
      ]
    }
  ],
  "metadata": {
    "kernelspec": {
      "display_name": "Python 3",
      "language": "python",
      "name": "python3"
    },
    "language_info": {
      "codemirror_mode": {
        "name": "ipython",
        "version": 3
      },
      "file_extension": ".py",
      "mimetype": "text/x-python",
      "name": "python",
      "nbconvert_exporter": "python",
      "pygments_lexer": "ipython3",
      "version": "3.8.0"
    }
  },
  "nbformat": 4,
  "nbformat_minor": 0
}