{
  "cells": [
    {
      "cell_type": "code",
      "execution_count": null,
      "metadata": {
        "collapsed": false
      },
      "outputs": [],
      "source": [
        "%matplotlib inline"
      ]
    },
    {
      "cell_type": "markdown",
      "metadata": {},
      "source": [
        "\nInformation analysis of an alignment\n====================================\n\nInformation here is in the formal sense -- maximum entropy minus the entropy at a position. This is fast to compute and is an indicator of the variability at a position.\n"
      ]
    },
    {
      "cell_type": "markdown",
      "metadata": {},
      "source": [
        "Illustrated with a simple example\n#################################\n\n"
      ]
    },
    {
      "cell_type": "code",
      "execution_count": null,
      "metadata": {
        "collapsed": false
      },
      "outputs": [],
      "source": [
        "from cogent3 import make_seq, make_aligned_seqs, load_aligned_seqs\n\ns1 = make_seq('TGATGTAAGGTAGTT', name='s1', moltype=\"dna\")\ns2 = make_seq('--CTGGAAGGGT---', name='s2', moltype=\"dna\")\n\nseqs = make_aligned_seqs(data=[s1, s2], array_align=False, \n                         moltype='dna')\ndraw = seqs.information_plot(window=2, include_gap=True)\ndraw.show(renderer=\"sphinx_gallery\", width=500, height=400)"
      ]
    },
    {
      "cell_type": "markdown",
      "metadata": {},
      "source": [
        "On a sample data set\n********************\n\nClicking on any of the legend items causes that to disappear from the plot.\n\n"
      ]
    },
    {
      "cell_type": "code",
      "execution_count": null,
      "metadata": {
        "collapsed": false
      },
      "outputs": [],
      "source": [
        "aln = load_aligned_seqs('../data/brca1.fasta', moltype='protein')\n\nfig = aln.information_plot(stat='median')\nfig.show(renderer=\"sphinx_gallery\", width=500, height=400)"
      ]
    }
  ],
  "metadata": {
    "kernelspec": {
      "display_name": "Python 3",
      "language": "python",
      "name": "python3"
    },
    "language_info": {
      "codemirror_mode": {
        "name": "ipython",
        "version": 3
      },
      "file_extension": ".py",
      "mimetype": "text/x-python",
      "name": "python",
      "nbconvert_exporter": "python",
      "pygments_lexer": "ipython3",
      "version": "3.8.0"
    }
  },
  "nbformat": 4,
  "nbformat_minor": 0
}